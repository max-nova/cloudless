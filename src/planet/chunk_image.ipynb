{
 "cells": [
  {
   "cell_type": "code",
   "execution_count": 4,
   "metadata": {
    "collapsed": true
   },
   "outputs": [],
   "source": [
    "import os\n",
    "import requests"
   ]
  },
  {
   "cell_type": "code",
   "execution_count": 5,
   "metadata": {
    "collapsed": true
   },
   "outputs": [],
   "source": [
    "PLANET_KEY = os.environ.get('PLANET_KEY')\n",
    "if not PLANET_KEY:\n",
    "    raise Exception('PLANET_KEY environment variable not set!')"
   ]
  },
  {
   "cell_type": "code",
   "execution_count": 21,
   "metadata": {
    "collapsed": true
   },
   "outputs": [],
   "source": [
    "sf_nw = (-122.545373, 37.815798)\n",
    "sf_se = (-122.340066, 37.709403)\n",
    "sf_ne = (sf_se[0], sf_nw[1])\n",
    "sf_sw = (sf_nw[0], sf_se[1])\n",
    "\n",
    "from shapely.geometry import Polygon\n",
    "from shapely.wkt import dumps as wkt_dumps\n",
    "\n",
    "poly = Polygon([sf_nw, sf_ne, sf_se, sf_sw, sf_nw])\n",
    "wkt = wkt_dumps(poly)"
   ]
  },
  {
   "cell_type": "code",
   "execution_count": 22,
   "metadata": {
    "collapsed": false
   },
   "outputs": [],
   "source": [
    "url = \"https://api.planet.com/v0/scenes/ortho/\"\n",
    "params = {\n",
    "    \"intersects\": wkt,\n",
    "}\n",
    "\n",
    "data = requests.get(url, params=params, auth=(PLANET_KEY, ''))\n",
    "\n",
    "scenes_data = data.json()[\"features\"]"
   ]
  },
  {
   "cell_type": "code",
   "execution_count": 23,
   "metadata": {
    "collapsed": false
   },
   "outputs": [
    {
     "data": {
      "text/plain": [
       "15"
      ]
     },
     "execution_count": 23,
     "metadata": {},
     "output_type": "execute_result"
    }
   ],
   "source": [
    "len(scenes_data)"
   ]
  },
  {
   "cell_type": "code",
   "execution_count": 27,
   "metadata": {
    "collapsed": false
   },
   "outputs": [],
   "source": [
    "s_data = scenes_data[0]"
   ]
  },
  {
   "cell_type": "code",
   "execution_count": 28,
   "metadata": {
    "collapsed": false
   },
   "outputs": [
    {
     "data": {
      "text/plain": [
       "{u'geometry': {u'coordinates': [[[-122.29409235077821, 37.83440782589613],\n",
       "    [-122.32765665656922, 37.93231154068849],\n",
       "    [-122.51304338315654, 37.89224465788993],\n",
       "    [-122.47949060601427, 37.79469797093437],\n",
       "    [-122.29409235077821, 37.83440782589613]]],\n",
       "  u'type': u'Polygon'},\n",
       " u'id': u'20150718_184302_090b',\n",
       " u'properties': {u'acquired': u'2015-07-18T18:43:02.320473+00:00',\n",
       "  u'camera': {u'bit_depth': 12,\n",
       "   u'color_mode': u'RGB',\n",
       "   u'exposure_time': 1130.0,\n",
       "   u'gain': 100.0,\n",
       "   u'tdi_pulses': 12.0},\n",
       "  u'cloud_cover': {u'estimated': 0.02},\n",
       "  u'data': {u'products': {u'analytic': {u'full': u'https://view.planet.com/v0/scenes/ortho/20150718_184302_090b/full?product=analytic'},\n",
       "    u'visual': {u'full': u'https://view.planet.com/v0/scenes/ortho/20150718_184302_090b/full?product=visual'}}},\n",
       "  u'image_statistics': {u'gsd': 4.07548676068,\n",
       "   u'image_quality': u'standard',\n",
       "   u'snr': 89.77890586436257},\n",
       "  u'links': {u'full': u'https://view.planet.com/v0/scenes/ortho/20150718_184302_090b/full',\n",
       "   u'self': u'https://api.planet.com/v0/scenes/ortho/20150718_184302_090b',\n",
       "   u'square_thumbnail': u'https://view.planet.com/v0/scenes/ortho/20150718_184302_090b/square-thumb',\n",
       "   u'thumbnail': u'https://view.planet.com/v0/scenes/ortho/20150718_184302_090b/thumb'},\n",
       "  u'published': u'2015-08-09T20:11:54.792854+00:00',\n",
       "  u'sat': {u'alt': 602.769900133,\n",
       "   u'id': u'090b',\n",
       "   u'lat': 38.0257659069,\n",
       "   u'lng': -122.786093611,\n",
       "   u'off_nadir': 3.7218263299778855},\n",
       "  u'strip_id': 1437244947.005341,\n",
       "  u'sun': {u'altitude': 63.46376135249483,\n",
       "   u'azimuth': 123.27257919708912,\n",
       "   u'local_time_of_day': 10.531482648155553}},\n",
       " u'type': u'Feature'}"
      ]
     },
     "execution_count": 28,
     "metadata": {},
     "output_type": "execute_result"
    }
   ],
   "source": [
    "s_data"
   ]
  },
  {
   "cell_type": "code",
   "execution_count": 26,
   "metadata": {
    "collapsed": true
   },
   "outputs": [],
   "source": [
    "def download_image(url, key):\n",
    "    r = requests.get(url, stream=True, auth=(key, ''))\n",
    "    if 'content-disposition' in r.headers:\n",
    "        local_filename = r.headers['content-disposition'] \\\n",
    "            .split(\"filename=\")[-1].strip(\"'\\\"\")\n",
    "    else:\n",
    "        local_filename = '.'.join(url.split('/')[-2:])\n",
    "\n",
    "    with open(local_filename, 'wb') as f:\n",
    "        for chunk in r.iter_content(chunk_size=1024):\n",
    "            if chunk: # filter out keep-alive new chunks\n",
    "                f.write(chunk)\n",
    "                f.flush()\n",
    "\n",
    "    return local_filename"
   ]
  },
  {
   "cell_type": "code",
   "execution_count": 36,
   "metadata": {
    "collapsed": false
   },
   "outputs": [],
   "source": [
    "img_url = s_data['properties']['links']['full']"
   ]
  },
  {
   "cell_type": "code",
   "execution_count": 37,
   "metadata": {
    "collapsed": true
   },
   "outputs": [],
   "source": [
    "img = download_image(img_url, PLANET_KEY)"
   ]
  },
  {
   "cell_type": "code",
   "execution_count": 38,
   "metadata": {
    "collapsed": false
   },
   "outputs": [
    {
     "data": {
      "text/plain": [
       "'20150718_184302_090b_visual.tif'"
      ]
     },
     "execution_count": 38,
     "metadata": {},
     "output_type": "execute_result"
    }
   ],
   "source": [
    "img"
   ]
  },
  {
   "cell_type": "code",
   "execution_count": null,
   "metadata": {
    "collapsed": true
   },
   "outputs": [],
   "source": []
  }
 ],
 "metadata": {
  "kernelspec": {
   "display_name": "Python 2",
   "language": "python",
   "name": "python2"
  },
  "language_info": {
   "codemirror_mode": {
    "name": "ipython",
    "version": 2
   },
   "file_extension": ".py",
   "mimetype": "text/x-python",
   "name": "python",
   "nbconvert_exporter": "python",
   "pygments_lexer": "ipython2",
   "version": "2.7.8"
  }
 },
 "nbformat": 4,
 "nbformat_minor": 0
}
